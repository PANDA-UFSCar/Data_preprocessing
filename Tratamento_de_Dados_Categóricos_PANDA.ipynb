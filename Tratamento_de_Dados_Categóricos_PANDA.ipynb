{
  "nbformat": 4,
  "nbformat_minor": 0,
  "metadata": {
    "colab": {
      "provenance": [],
      "collapsed_sections": [
        "Q84HWaAp6C-L",
        "POs5NDqd8S4F",
        "6Mr71qGBNx91"
      ]
    },
    "kernelspec": {
      "name": "python3",
      "display_name": "Python 3"
    },
    "language_info": {
      "name": "python"
    }
  },
  "cells": [
    {
      "cell_type": "markdown",
      "source": [
        "   <img src = \"https://drive.google.com/uc?id=1JCGXq-eLDEqIh-MIeEEs7VLfde6GFP2q\" width = 240/>\n"
      ],
      "metadata": {
        "id": "aFj9DV1C0WTZ"
      }
    },
    {
      "cell_type": "markdown",
      "source": [
        "## Tratamento de Dados Categóricos"
      ],
      "metadata": {
        "id": "5SqP_bwS0bmW"
      }
    },
    {
      "cell_type": "markdown",
      "source": [
        "##Autor\n",
        "\n",
        "Kevin Vinicius Carvalho de Brito\n",
        "\n",
        "Grupo de Preparação de Dados\n",
        "\n",
        "\n",
        "---\n",
        "\n"
      ],
      "metadata": {
        "id": "QQ4g8k6B0d4f"
      }
    },
    {
      "cell_type": "markdown",
      "source": [
        "## Introdução\n",
        "\n",
        "O tratamento de dados categóricos é uma etapa fundamental na ciência de dados, que se concentra na manipulação de variáveis não numéricas, como categorias e rótulos, em conjuntos de dados. Esse processo visa converter essas categorias em formatos apropriados para análise e modelos de aprendizado de máquina, assegurando a confiabilidade e a relevância dos insights e resultados obtidos, de maneira análoga à limpeza de dados na busca pela qualidade e integridade das informações."
      ],
      "metadata": {
        "id": "pNGRnwyH04kX"
      }
    },
    {
      "cell_type": "markdown",
      "source": [
        "##Importância do tratamento de dados categóricos na área de Dados\n",
        "\n",
        "\n",
        "O tratamento de dados categóricos desempenha um papel igualmente crucial na excelência dos projetos de ciência de dados. As variáveis categóricas são ubíquas em conjuntos de dados, mas sua presença exige uma abordagem cuidadosa. O tratamento adequado dessas categorias, através de codificação, agrupamento ou outras estratégias, é essencial para evitar viés, melhorar a acurácia das previsões e garantir que os modelos sejam robustos e generalizáveis. Assim como a limpeza de dados, o tratamento adequado de variáveis categóricas contribui para a confiabilidade das análises e para a tomada de decisões embasadas em insights sólidos, sustentando a integridade do projeto como um todo."
      ],
      "metadata": {
        "id": "lW_qkH3D1cCq"
      }
    },
    {
      "cell_type": "markdown",
      "source": [
        "##Codificação de variáveis categóricas"
      ],
      "metadata": {
        "id": "PszE8Jfg1qka"
      }
    },
    {
      "cell_type": "markdown",
      "source": [
        "##One-hot encoding\n",
        "\n",
        " Técnica usada para transformar variáveis categóricas em um formato numérico. Cada categoria única é transformada em uma nova coluna binária (0 ou 1), indicando a presença ou ausência da categoria na observação original. Essa técnica é útil quando não há uma ordem natural nas categorias e todas as categorias são independentes umas das outras.\n"
      ],
      "metadata": {
        "id": "MYhPUhnv_pYm"
      }
    },
    {
      "cell_type": "code",
      "source": [
        "import pandas as pd\n",
        "\n",
        "data = {'Animal': ['Gato', 'Cachorro', 'Pássaro', 'Peixe', 'Gato'],\n",
        "        'Cor': ['Preto', 'Marrom', 'Azul', 'Laranja', 'Branco']}\n",
        "\n",
        "df = pd.DataFrame(data)\n",
        "\n",
        "one_hot_encoded = pd.get_dummies(df, columns=['Cor'], prefix='Cor')\n",
        "print(one_hot_encoded)"
      ],
      "metadata": {
        "colab": {
          "base_uri": "https://localhost:8080/"
        },
        "id": "aSSkoCdIZt1U",
        "outputId": "be872f05-e2df-409c-ea84-4e4d5168697e"
      },
      "execution_count": null,
      "outputs": [
        {
          "output_type": "stream",
          "name": "stdout",
          "text": [
            "     Animal  Cor_Azul  Cor_Branco  Cor_Laranja  Cor_Marrom  Cor_Preto\n",
            "0      Gato         0           0            0           0          1\n",
            "1  Cachorro         0           0            0           1          0\n",
            "2   Pássaro         1           0            0           0          0\n",
            "3     Peixe         0           0            1           0          0\n",
            "4      Gato         0           1            0           0          0\n"
          ]
        }
      ]
    },
    {
      "cell_type": "markdown",
      "source": [
        "##Label Encoding\n",
        "Envolve a atribuição de um número único a cada categoria. Esse número representa a posição da categoria na lista de todas as categorias únicas. Essa técnica é usada quando as categorias têm uma ordem ou relação intrínseca entre elas. No entanto, o label encoding pode criar uma falsa relação de ordem ou importância entre as categorias, já que os números atribuídos são arbitrários. Portanto, o label encoding é mais apropriado quando há uma relação ordinal entre as categorias, como tamanhos (pequeno, médio, grande) ou níveis educacionais (ensino fundamental, ensino médio, ensino superior)."
      ],
      "metadata": {
        "id": "50VnYqdSAEIm"
      }
    },
    {
      "cell_type": "code",
      "source": [
        "from sklearn.preprocessing import LabelEncoder\n",
        "\n",
        "data = {'Animal': ['Gato', 'Cachorro', 'Pássaro', 'Peixe', 'Gato']}\n",
        "\n",
        "df = pd.DataFrame(data)\n",
        "\n",
        "label_encoder = LabelEncoder()\n",
        "df['Animal_LabelEncoded'] = label_encoder.fit_transform(df['Animal'])\n",
        "print(df)"
      ],
      "metadata": {
        "colab": {
          "base_uri": "https://localhost:8080/"
        },
        "id": "ajf_eecWAGSk",
        "outputId": "ff83edeb-ebe6-4425-f29a-0e4bbd74c668"
      },
      "execution_count": null,
      "outputs": [
        {
          "output_type": "stream",
          "name": "stdout",
          "text": [
            "     Animal  Animal_LabelEncoded\n",
            "0      Gato                    1\n",
            "1  Cachorro                    0\n",
            "2   Pássaro                    3\n",
            "3     Peixe                    2\n",
            "4      Gato                    1\n"
          ]
        }
      ]
    },
    {
      "cell_type": "markdown",
      "source": [
        "##Target Encoding\n",
        "É uma técnica que envolve a substituição de cada categoria pela média da variável alvo correspondente àquela categoria. Essa técnica é frequentemente usada em problemas de regressão, onde a variável alvo é contínua, mas também pode ser aplicada a problemas de classificação. O target encoding aproveita a relação entre a variável categórica e a variável alvo para criar uma representação numérica mais significativa. No entanto, é importante ter cuidado ao aplicar o target encoding para evitar vazamento de informações do conjunto de treinamento para o conjunto de teste."
      ],
      "metadata": {
        "id": "H83pawqNAK_D"
      }
    },
    {
      "cell_type": "code",
      "source": [
        "import pandas as pd\n",
        "\n",
        "# Criando um DataFrame de exemplo\n",
        "data = {\n",
        "    'Localizacao': ['A', 'B', 'A', 'C', 'B'],\n",
        "    'Preco': [200000, 250000, 220000, 280000, 260000]\n",
        "}\n",
        "\n",
        "df = pd.DataFrame(data)\n",
        "\n",
        "# Calculando as médias dos preços para cada localização\n",
        "mean_prices = df.groupby('Localizacao')['Preco'].mean()\n",
        "\n",
        "# Mapeando as médias de preços de volta para o DataFrame com base na localização\n",
        "df['Media'] = df['Localizacao'].map(mean_prices)\n",
        "\n",
        "print(df)"
      ],
      "metadata": {
        "colab": {
          "base_uri": "https://localhost:8080/"
        },
        "id": "LNrxEzzaAMrh",
        "outputId": "8cbebb6a-cf81-459c-c9e7-f457a5d49b2f"
      },
      "execution_count": null,
      "outputs": [
        {
          "output_type": "stream",
          "name": "stdout",
          "text": [
            "  Localizacao   Preco     Media\n",
            "0           A  200000  210000.0\n",
            "1           B  250000  255000.0\n",
            "2           A  220000  210000.0\n",
            "3           C  280000  280000.0\n",
            "4           B  260000  255000.0\n"
          ]
        }
      ]
    },
    {
      "cell_type": "markdown",
      "source": [
        "#Lidando com categorias raras ou desconhecidas\n"
      ],
      "metadata": {
        "id": "pVWX4yPV2RXz"
      }
    },
    {
      "cell_type": "markdown",
      "source": [
        "##Tratamento de Categorias Raras\n",
        "\n",
        "Refere-se a lidar com categorias que possuem uma frequência muito baixa em um conjunto de dados. Essas categorias raras podem ser problemáticas durante a análise de dados ou o treinamento de modelos, uma vez que podem introduzir ruído ou instabilidade nos resultados. O tratamento envolve a identificação dessas categorias e a aplicação de uma estratégia para agrupá-las ou substituí-las por uma categoria mais geral, como \"Raro\" ou \"Outro\". Isso ajuda a simplificar os dados e a reduzir a complexidade do modelo, garantindo que as categorias mais comuns recebam maior atenção."
      ],
      "metadata": {
        "id": "Yed4jhnpJPT1"
      }
    },
    {
      "cell_type": "code",
      "source": [
        "import pandas as pd\n",
        "\n",
        "# Dados de exemplo\n",
        "data = {'Animal': ['Cachorro', 'Gato', 'Cachorro', 'Pássaro', 'Gato', 'Cachorro', 'Peixe', 'Cachorro']}\n",
        "\n",
        "df = pd.DataFrame(data)\n",
        "\n",
        "# Tratamento de Categorias Raras\n",
        "threshold = 2\n",
        "value_counts = df['Animal'].value_counts()\n",
        "rare_categories = value_counts[value_counts <= threshold].index\n",
        "\n",
        "df['Animal'] = df['Animal'].apply(lambda x: 'Raro' if x in rare_categories else x)\n",
        "\n",
        "print(\"Conjunto de dados após o tratamento de categorias raras:\")\n",
        "print(df)"
      ],
      "metadata": {
        "colab": {
          "base_uri": "https://localhost:8080/"
        },
        "id": "ZdNZlQDQC5f-",
        "outputId": "550612cc-22bc-46fc-cabc-e6ff575595cb"
      },
      "execution_count": null,
      "outputs": [
        {
          "output_type": "stream",
          "name": "stdout",
          "text": [
            "Conjunto de dados após o tratamento de categorias raras:\n",
            "     Animal\n",
            "0  Cachorro\n",
            "1      Raro\n",
            "2  Cachorro\n",
            "3      Raro\n",
            "4      Raro\n",
            "5  Cachorro\n",
            "6      Raro\n",
            "7  Cachorro\n"
          ]
        }
      ]
    },
    {
      "cell_type": "markdown",
      "source": [
        "*   **Substituição pela categoria mais frequente:** substitui as categorias raras por uma categoria mais comum, tornando-as menos impactantes no modelo.\n",
        "*   **Agrupamento em categoria \"Outros\":** substitui as categorias raras por uma categoria mais comum, tornando-as menos impactantes no modelo.\n",
        "*   **Agrupamento em categoria \"Outros\":** agrupa as categorias raras em uma categoria chamada \"Outros\" ou \"RARE\".\n",
        "*   **Codificação por frequência:** codifica as categorias raras com base em sua frequência relativa.\n",
        "*   **Remoção das categorias raras:** remove as linhas que contêm categorias raras do conjunto de dados.\n",
        "\n",
        "\n",
        "\n",
        "\n",
        "\n"
      ],
      "metadata": {
        "id": "2Ih2wh9Dih-j"
      }
    },
    {
      "cell_type": "markdown",
      "source": [
        "##Tratamento de Categoria Desconhecida\n",
        "Quando você está lidando com novos dados ou observações que possuem categorias que não foram vistas durante o treinamento do modelo. Essas categorias desconhecidas não podem ser diretamente usadas pelo modelo, e uma estratégia é necessária para atribuir valores apropriados a essas categorias não vistas. Geralmente, a abordagem mais comum é substituir categorias desconhecidas por categorias conhecidas com base na distribuição das categorias no conjunto de treinamento."
      ],
      "metadata": {
        "id": "TfUd7zLyJWNJ"
      }
    },
    {
      "cell_type": "code",
      "source": [
        "import pandas as pd\n",
        "\n",
        "# Dados de treinamento\n",
        "data_train = {'Animal': ['Cachorro', 'Gato', 'Pássaro', 'Cachorro', 'Gato']}\n",
        "\n",
        "# Dados de teste com categoria desconhecida\n",
        "data_test = {'Animal': ['Cachorro', 'Peixe', 'Desconhecido']}\n",
        "\n",
        "df_train = pd.DataFrame(data_train)\n",
        "df_test = pd.DataFrame(data_test)\n",
        "\n",
        "# Tratamento de Categoria Desconhecida\n",
        "most_frequent_category = df_train['Animal'].mode()[0]\n",
        "df_test['Animal'] = df_test['Animal'].apply(lambda x: most_frequent_category if x not in df_train['Animal'].unique() else x)\n",
        "\n",
        "print(\"Conjunto de teste após o tratamento de categoria desconhecida:\")\n",
        "print(df_test)"
      ],
      "metadata": {
        "colab": {
          "base_uri": "https://localhost:8080/"
        },
        "id": "Mh0-0zrYJX15",
        "outputId": "efe069d4-2cac-4a04-fa18-d042d413b31b"
      },
      "execution_count": null,
      "outputs": [
        {
          "output_type": "stream",
          "name": "stdout",
          "text": [
            "Conjunto de teste após o tratamento de categoria desconhecida:\n",
            "     Animal\n",
            "0  Cachorro\n",
            "1  Cachorro\n",
            "2  Cachorro\n"
          ]
        }
      ]
    },
    {
      "cell_type": "markdown",
      "source": [
        "*   **Substituição pela categoria mais frequente:** substitui as categorias desconhecido por uma categoria mais comum, tornando-as menos impactantes no modelo.\n",
        "*   **Agrupamento em categoria \"Outros\":** substitui as categorias desconhecido por uma categoria mais comum, tornando-as menos impactantes no modelo.\n",
        "*   **Agrupamento em categoria \"Outros\":** agrupa as categorias desconhecido em uma categoria chamada \"Outros\" ou \"RARE\".\n",
        "*   **Codificação por frequência:** codifica as categorias desconhecido com base em sua frequência relativa.\n",
        "*   **Remoção das categorias desconhecido:** remove as linhas que contêm categorias desconhecido do conjunto de dados.\n",
        "\n",
        "\n",
        "\n",
        "\n",
        "\n"
      ],
      "metadata": {
        "id": "Fh-kZNW5kfj6"
      }
    },
    {
      "cell_type": "markdown",
      "source": [
        "##Tratamento de variáveis ordinais\n",
        "O tratamento de variáveis ordinais é importante quando você tem variáveis categóricas com uma ordem ou hierarquia natural entre as categorias. Aqui está um exemplo simples de tratamento de variáveis ordinais usando o conjunto de dados de classificação de tamanhos de camisetas."
      ],
      "metadata": {
        "id": "kyNFoRFm3VVG"
      }
    },
    {
      "cell_type": "code",
      "source": [
        "import pandas as pd\n",
        "from sklearn.preprocessing import LabelEncoder\n",
        "\n",
        "# Dados de exemplo\n",
        "data = {'Tamanho': ['Pequeno', 'Médio', 'Grande', 'Médio', 'Pequeno', 'Grande', 'Médio', 'Grande', 'Pequeno']}\n",
        "\n",
        "df = pd.DataFrame(data)\n",
        "\n",
        "# Usar Label Encoding para tratar variável ordinal\n",
        "label_encoder = LabelEncoder()\n",
        "df['Tamanho_Encoded'] = label_encoder.fit_transform(df['Tamanho'])\n",
        "\n",
        "# Mapear os valores numéricos de volta para os rótulos originais\n",
        "df['Tamanho_Decoded'] = label_encoder.inverse_transform(df['Tamanho_Encoded'])\n",
        "\n",
        "print(df)"
      ],
      "metadata": {
        "colab": {
          "base_uri": "https://localhost:8080/"
        },
        "id": "MGmz6bOTLQ7M",
        "outputId": "f4fa9e22-019a-4826-b751-5116b0bb7120"
      },
      "execution_count": null,
      "outputs": [
        {
          "output_type": "stream",
          "name": "stdout",
          "text": [
            "   Tamanho  Tamanho_Encoded Tamanho_Decoded\n",
            "0  Pequeno                2         Pequeno\n",
            "1    Médio                1           Médio\n",
            "2   Grande                0          Grande\n",
            "3    Médio                1           Médio\n",
            "4  Pequeno                2         Pequeno\n",
            "5   Grande                0          Grande\n",
            "6    Médio                1           Médio\n",
            "7   Grande                0          Grande\n",
            "8  Pequeno                2         Pequeno\n"
          ]
        }
      ]
    },
    {
      "cell_type": "code",
      "source": [
        "import pandas as pd\n",
        "from sklearn.preprocessing import OrdinalEncoder\n",
        "\n",
        "# Dados de exemplo\n",
        "data = {'Educação': ['Graduação', 'Pós-Graduação', 'Ensino Médio', 'Graduação', 'Pós-Graduação']}\n",
        "\n",
        "df = pd.DataFrame(data)\n",
        "\n",
        "# Usar Ordinal Encoding para tratar variável ordinal\n",
        "ordinal_encoder = OrdinalEncoder(categories=[['Ensino Médio', 'Graduação', 'Pós-Graduação']])\n",
        "df['Educação_Encoded'] = ordinal_encoder.fit_transform(df[['Educação']])\n",
        "\n",
        "# Mapear os valores numéricos de volta para os rótulos originais\n",
        "df['Educação_Decoded'] = ordinal_encoder.inverse_transform(df[['Educação_Encoded']])\n",
        "\n",
        "print(df)"
      ],
      "metadata": {
        "colab": {
          "base_uri": "https://localhost:8080/"
        },
        "id": "n0FYyzAbLfI8",
        "outputId": "b6eb1b99-1aaa-47cd-f8c8-b330be2bcd4a"
      },
      "execution_count": null,
      "outputs": [
        {
          "output_type": "stream",
          "name": "stdout",
          "text": [
            "        Educação  Educação_Encoded Educação_Decoded\n",
            "0      Graduação               1.0        Graduação\n",
            "1  Pós-Graduação               2.0    Pós-Graduação\n",
            "2   Ensino Médio               0.0     Ensino Médio\n",
            "3      Graduação               1.0        Graduação\n",
            "4  Pós-Graduação               2.0    Pós-Graduação\n"
          ]
        }
      ]
    },
    {
      "cell_type": "code",
      "source": [
        "import pandas as pd\n",
        "\n",
        "# Dados de exemplo\n",
        "data = {'Classe Social': ['Média', 'Alta', 'Baixa', 'Média', 'Média', 'Alta']}\n",
        "\n",
        "df = pd.DataFrame(data)\n",
        "\n",
        "# Definir um mapeamento personalizado\n",
        "class_mapping = {'Baixa': 1, 'Média': 2, 'Alta': 3}\n",
        "df['Classe Social_Encoded'] = df['Classe Social'].map(class_mapping)\n",
        "\n",
        "print(df)"
      ],
      "metadata": {
        "colab": {
          "base_uri": "https://localhost:8080/"
        },
        "id": "nHqiEQwfLxKb",
        "outputId": "15b60725-b3b8-4256-e202-292de335e667"
      },
      "execution_count": null,
      "outputs": [
        {
          "output_type": "stream",
          "name": "stdout",
          "text": [
            "  Classe Social  Classe Social_Encoded\n",
            "0         Média                      2\n",
            "1          Alta                      3\n",
            "2         Baixa                      1\n",
            "3         Média                      2\n",
            "4         Média                      2\n",
            "5          Alta                      3\n"
          ]
        }
      ]
    },
    {
      "cell_type": "markdown",
      "source": [
        "#Tópicos Avançados Relacionados"
      ],
      "metadata": {
        "id": "19LqApfIeKt9"
      }
    },
    {
      "cell_type": "markdown",
      "source": [
        "##Impacto na Performance de Modelos de Machine Learning\n",
        "Utilizando One-Hot Encoding para codificar a variável categórica \"Gênero\" permite que a Árvore de Decisão se adapte melhor aos dados categóricos, resultando em uma melhor acurácia."
      ],
      "metadata": {
        "id": "jgt3sN5ZeQoB"
      }
    },
    {
      "cell_type": "code",
      "source": [
        "import pandas as pd\n",
        "from sklearn.model_selection import train_test_split\n",
        "from sklearn.tree import DecisionTreeClassifier\n",
        "from sklearn.metrics import accuracy_score\n",
        "\n",
        "# Criando um DataFrame fictício com dados categóricos\n",
        "data = {\n",
        "    'Gênero': ['Masculino', 'Feminino', 'Feminino', 'Masculino', 'Masculino'],\n",
        "    'Idade': [25, 30, 28, 22, 24],\n",
        "    'Compra': ['Sim', 'Não', 'Sim', 'Não', 'Sim']\n",
        "}\n",
        "\n",
        "df = pd.DataFrame(data)\n",
        "\n",
        "# Codificando o Gênero com One-Hot Encoding\n",
        "df_encoded = pd.get_dummies(df, columns=['Gênero'])\n",
        "\n",
        "# Dividindo os dados em treino e teste\n",
        "X_train, X_test, y_train, y_test = train_test_split(df_encoded.drop('Compra', axis=1), df_encoded['Compra'], test_size=0.2, random_state=42)\n",
        "\n",
        "# Treinando um modelo de Árvore de Decisão\n",
        "model = DecisionTreeClassifier()\n",
        "model.fit(X_train, y_train)\n",
        "\n",
        "# Fazendo previsões e calculando a acurácia\n",
        "y_pred = model.predict(X_test)\n",
        "accuracy = accuracy_score(y_test, y_pred)\n",
        "print(f'Acurácia usando One-Hot Encoding: {accuracy:.2f}')\n"
      ],
      "metadata": {
        "colab": {
          "base_uri": "https://localhost:8080/"
        },
        "id": "wJE5u1TfdnoX",
        "outputId": "dd34ab54-92aa-4f0d-ff6e-60d2529b8f42"
      },
      "execution_count": null,
      "outputs": [
        {
          "output_type": "stream",
          "name": "stdout",
          "text": [
            "Acurácia usando One-Hot Encoding: 0.00\n"
          ]
        }
      ]
    },
    {
      "cell_type": "markdown",
      "source": [
        "#Conclusão\n",
        "\n",
        "A escolha das técnicas de tratamento de variáveis categóricas depende da natureza dos dados e do objetivo do projeto. Ao lidar com dados categóricos, é fundamental considerar a natureza das categorias, a relação com a variável alvo e o impacto nas métricas de avaliação do modelo. Uma abordagem criteriosa e adaptada a cada situação contribuirá para a construção de modelos mais robustos e interpretações mais confiáveis em projetos de ciência de dados. Portanto, o tratamento adequado de variáveis categóricas é um passo crucial na jornada rumo a insights valiosos e tomada de decisões informadas."
      ],
      "metadata": {
        "id": "xEFtMW2NqTsV"
      }
    }
  ]
}